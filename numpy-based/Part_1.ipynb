{
 "cells": [
  {
   "cell_type": "markdown",
   "metadata": {},
   "source": [
    "# Part 1\n",
    "## Tabular Q-learning"
   ]
  },
  {
   "cell_type": "markdown",
   "metadata": {},
   "source": [
    "### A gridworld environment\n",
    "\n",
    "In order to build some intuition about RL methods, we are going to begin with a value function approximator method: Q-learning. To keep things simple we are going to implement Q-learning in its tabular form (i.e. without any function approximation).\n",
    "\n",
    "The first environment we are going to study is a discrete-space grid-world."
   ]
  },
  {
   "cell_type": "code",
   "execution_count": 1,
   "metadata": {},
   "outputs": [],
   "source": [
    "# We begin by importing the required python modules: numpy, matplotlib and the gridworld environment.\n",
    "import numpy as np\n",
    "import matplotlib.pyplot as plt\n",
    "%matplotlib inline\n",
    "from envs.environments import cliff_walking"
   ]
  },
  {
   "cell_type": "markdown",
   "metadata": {},
   "source": [
    "First we create an instance of the environment and we render it to see what we are dealing with."
   ]
  },
  {
   "cell_type": "code",
   "execution_count": 2,
   "metadata": {},
   "outputs": [
    {
     "data": {
      "image/png": "[encoded data removed]",
      "text/plain": [
       "<Figure size 432x288 with 1 Axes>"
      ]
     },
     "metadata": {
      "needs_background": "light"
     },
     "output_type": "display_data"
    }
   ],
   "source": [
    "# Create an instance of the environment\n",
    "env = cliff_walking()\n",
    "env.reset()\n",
    "# Lets render the enviroment to see what we are dealing with\n",
    "env_map = env.render()\n",
    "plt.figure()\n",
    "plt.imshow(env_map,cmap='viridis');\n",
    "plt.axis('off');"
   ]
  },
  {
   "cell_type": "markdown",
   "metadata": {},
   "source": [
    "The agent (yellow) is going to be trained to achieve the goal cell (green). The obstacles (blue) are places where the agent cannot move to. The agent is inialized randomly in any of the empty cells (dark-purple).\n",
    "\n",
    "The agent can execute 4 actions: 0-UP, 1-RIGHT, 2-DOWN, 3-LEFT. Each action drives the agent one cell in the corresponding direction. If the agent attemps to move towards an obstacle or the limit of the gridworld, it will remain at its current position.\n",
    "\n",
    "The environment provides the agent with the following reward:\n",
    "* R = 1.0 if the agent achieves the goal.\n",
    "* R = 0.0 otherwhise."
   ]
  },
  {
   "cell_type": "code",
   "execution_count": 30,
   "metadata": {},
   "outputs": [],
   "source": [
    "class grid_world_v1(cliff_walking):\n",
    "    def reward(self):\n",
    "        agent, target = self.observe()\n",
    "        if agent==target:\n",
    "            return 0.0\n",
    "        elif agent in self._cliff:\n",
    "            return -100.0\n",
    "        else:\n",
    "            return -1.0\n",
    "    \n",
    "class grid_world_v1(cliff_walking):\n",
    "    def reward(self):\n",
    "        agent, target = self.observe()\n",
    "        if agent==target:\n",
    "            return 0.0\n",
    "        elif agent in self._cliff:\n",
    "            return -1.0\n",
    "        else:\n",
    "            return -0.01"
   ]
  },
  {
   "cell_type": "markdown",
   "metadata": {},
   "source": [
    "### How to train the agent?\n",
    "As mentioned before we are going to approximate the value function of the agent following a greedy policy (executing always the action that provides more value).\n",
    "\n",
    "So we are going to learn the mapping: $S\\times A\\rightarrow \\mathbb{R}$"
   ]
  },
  {
   "cell_type": "code",
   "execution_count": 4,
   "metadata": {},
   "outputs": [],
   "source": [
    "from agents.Qlearning import tabular_Qlearning\n",
    "from utilities import plot_policies"
   ]
  },
  {
   "cell_type": "code",
   "execution_count": 5,
   "metadata": {},
   "outputs": [],
   "source": [
    "class our_Qlearning(tabular_Qlearning):\n",
    "    def train(self,state,action,next_state,reward,done):\n",
    "        if (not done):\n",
    "            BE = reward + self._gamma*np.amax(self.Qtable[next_state,:]) - self.Qtable[state,action]\n",
    "        else:\n",
    "            BE = reward - self.Qtable[state,action]\n",
    "        self.Qtable[state,action] += self._alpha*BE\n",
    "        return 0.5*np.square(BE)"
   ]
  },
  {
   "cell_type": "code",
   "execution_count": 13,
   "metadata": {},
   "outputs": [
    {
     "name": "stdout",
     "output_type": "stream",
     "text": [
      "______________________\n",
      "UP, RIGHT, DOWN, LEFT\n"
     ]
    },
    {
     "data": {
      "image/png": "[encoded data removed]",
      "text/plain": [
       "<Figure size 144x72 with 1 Axes>"
      ]
     },
     "metadata": {
      "needs_background": "light"
     },
     "output_type": "display_data"
    },
    {
     "data": {
      "image/png": "[encoded data removed]",
      "text/plain": [
       "<Figure size 2160x720 with 1 Axes>"
      ]
     },
     "metadata": {
      "needs_background": "light"
     },
     "output_type": "display_data"
    }
   ],
   "source": [
    "n_states = env.num_states\n",
    "n_actions = env.num_actions\n",
    "agent = our_Qlearning(n_states,n_actions,lr=0.1)\n",
    "policy = [agent.get_policy()]\n",
    "plot_policies(env,policy,size=(30,10))\n"
   ]
  },
  {
   "cell_type": "markdown",
   "metadata": {},
   "source": [
    "### Training the agent"
   ]
  },
  {
   "cell_type": "code",
   "execution_count": 25,
   "metadata": {},
   "outputs": [],
   "source": [
    "def run_training(env,agent,max_episodes,max_steps,start='standar'):\n",
    "    np.random.seed(1234) # Fixed random seed\n",
    "    policies = []\n",
    "    for episode in range(max_episodes+1):\n",
    "        state = env.reset(start)\n",
    "        done = False\n",
    "        step = 1\n",
    "        policies.append(agent.get_policy())\n",
    "        while (not done and step <= max_steps):\n",
    "            action = agent.epsilon_greedy(state)\n",
    "            next_state,reward,done = env.step(action)\n",
    "            agent.train(state,action,next_state,reward,done)\n",
    "            state = next_state\n",
    "            step += 1\n",
    "        agent.epsilon_decay(rate=0.995,min=0.01)\n",
    "        agent.alpha_decay(rate=0.999,min=0.01)\n",
    "        if(episode%(max_episodes/10)==0):\n",
    "            print('Episode: ',episode,' Steps: ',step,\n",
    "                  ' Exploration: ',np.round(agent._epsilon,2),' L.R: ',np.round(agent._alpha,2))\n",
    "    return policies\n",
    "        "
   ]
  },
  {
   "cell_type": "code",
   "execution_count": 34,
   "metadata": {
    "scrolled": false
   },
   "outputs": [
    {
     "name": "stdout",
     "output_type": "stream",
     "text": [
      "Episode:  0  Steps:  18  Exploration:  1.0  L.R:  0.1\n",
      "Episode:  100  Steps:  20  Exploration:  0.6  L.R:  0.09\n",
      "Episode:  200  Steps:  38  Exploration:  0.37  L.R:  0.08\n",
      "Episode:  300  Steps:  19  Exploration:  0.22  L.R:  0.07\n",
      "Episode:  400  Steps:  33  Exploration:  0.13  L.R:  0.07\n",
      "Episode:  500  Steps:  25  Exploration:  0.08  L.R:  0.06\n",
      "Episode:  600  Steps:  33  Exploration:  0.05  L.R:  0.05\n",
      "Episode:  700  Steps:  16  Exploration:  0.03  L.R:  0.05\n",
      "Episode:  800  Steps:  14  Exploration:  0.02  L.R:  0.04\n",
      "Episode:  900  Steps:  14  Exploration:  0.01  L.R:  0.04\n",
      "Episode:  1000  Steps:  14  Exploration:  0.01  L.R:  0.04\n",
      "______________________\n",
      "UP, RIGHT, DOWN, LEFT\n"
     ]
    },
    {
     "data": {
      "image/png": "[encoded data removed]",
      "text/plain": [
       "<Figure size 144x72 with 1 Axes>"
      ]
     },
     "metadata": {
      "needs_background": "light"
     },
     "output_type": "display_data"
    },
    {
     "data": {
      "image/png": "[encoded data removed]",
      "text/plain": [
       "<Figure size 1080x720 with 30 Axes>"
      ]
     },
     "metadata": {
      "needs_background": "light"
     },
     "output_type": "display_data"
    }
   ],
   "source": [
    "env = grid_world_v1()\n",
    "agent.reset()\n",
    "episodes = 1000\n",
    "steps = 500\n",
    "policies = run_training(env,agent,episodes,steps)\n",
    "num_policies = len(policies)\n",
    "indexes = list(np.linspace(0,num_policies-1,30).astype(int))\n",
    "policies2plot = []\n",
    "for i in indexes:\n",
    "    policies2plot.append(policies[i])\n",
    "plot_policies(env,policies2plot,size=(15,10))        "
   ]
  }
 ],
 "metadata": {
  "kernelspec": {
   "display_name": "Python 3",
   "language": "python",
   "name": "python3"
  },
  "language_info": {
   "codemirror_mode": {
    "name": "ipython",
    "version": 3
   },
   "file_extension": ".py",
   "mimetype": "text/x-python",
   "name": "python",
   "nbconvert_exporter": "python",
   "pygments_lexer": "ipython3",
   "version": "3.5.2"
  }
 },
 "nbformat": 4,
 "nbformat_minor": 2
}
